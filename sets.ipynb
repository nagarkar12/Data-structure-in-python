{
 "cells": [
  {
   "cell_type": "markdown",
   "id": "d5a42b4d-277c-425b-b421-c3083ce22d28",
   "metadata": {},
   "source": [
    "Describe the key features of sets and provide example of their use "
   ]
  },
  {
   "cell_type": "code",
   "execution_count": 4,
   "id": "8e031bf0-d1b3-4812-af18-f33951435702",
   "metadata": {},
   "outputs": [
    {
     "data": {
      "text/plain": [
       "{1, 2, 3, 4.5, 'happy', 'ram'}"
      ]
     },
     "execution_count": 4,
     "metadata": {},
     "output_type": "execute_result"
    }
   ],
   "source": [
    "#Collection data type is iterable \n",
    "a={1,2,3,4.5,'ram','happy'}\n",
    "a\n"
   ]
  },
  {
   "cell_type": "code",
   "execution_count": 7,
   "id": "37038876-04f3-4a80-8ddc-8104029f1335",
   "metadata": {},
   "outputs": [
    {
     "name": "stdout",
     "output_type": "stream",
     "text": [
      "{'boy', 'ram', 'happy'}\n"
     ]
    },
    {
     "ename": "TypeError",
     "evalue": "'set' object does not support item assignment",
     "output_type": "error",
     "traceback": [
      "\u001b[0;31m---------------------------------------------------------------------------\u001b[0m",
      "\u001b[0;31mTypeError\u001b[0m                                 Traceback (most recent call last)",
      "Cell \u001b[0;32mIn[7], line 4\u001b[0m\n\u001b[1;32m      2\u001b[0m myset \u001b[38;5;241m=\u001b[39m {\u001b[38;5;124m'\u001b[39m\u001b[38;5;124mram\u001b[39m\u001b[38;5;124m'\u001b[39m, \u001b[38;5;124m'\u001b[39m\u001b[38;5;124mhappy\u001b[39m\u001b[38;5;124m'\u001b[39m, \u001b[38;5;124m'\u001b[39m\u001b[38;5;124mboy\u001b[39m\u001b[38;5;124m'\u001b[39m}\n\u001b[1;32m      3\u001b[0m \u001b[38;5;28mprint\u001b[39m(myset)\n\u001b[0;32m----> 4\u001b[0m \u001b[43mmyset\u001b[49m\u001b[43m[\u001b[49m\u001b[38;5;241;43m1\u001b[39;49m\u001b[43m]\u001b[49m \u001b[38;5;241m=\u001b[39m \u001b[38;5;124m'\u001b[39m\u001b[38;5;124mHello\u001b[39m\u001b[38;5;124m'\u001b[39m\n\u001b[1;32m      5\u001b[0m \u001b[38;5;28mprint\u001b[39m(myset)\n",
      "\u001b[0;31mTypeError\u001b[0m: 'set' object does not support item assignment"
     ]
    }
   ],
   "source": [
    "#Sets are mutable\n",
    "myset = {'ram', 'happy', 'boy'}\n",
    "print(myset)\n",
    "myset[1] = 'Hello'\n",
    "print(myset)"
   ]
  },
  {
   "cell_type": "code",
   "execution_count": 9,
   "id": "263fe9e7-6465-4999-ad58-3a98b5d70059",
   "metadata": {},
   "outputs": [
    {
     "data": {
      "text/plain": [
       "{1, 2, 3, 4, 4.5, 'happy', 'ram'}"
      ]
     },
     "execution_count": 9,
     "metadata": {},
     "output_type": "execute_result"
    }
   ],
   "source": [
    "#Has no duplicate element \n",
    "a={1,2,3,2,4,3,4.5,'ram','happy','happy'}\n",
    "a"
   ]
  },
  {
   "cell_type": "code",
   "execution_count": 10,
   "id": "4615d17d-30c2-48e3-b3ff-f669fc817614",
   "metadata": {},
   "outputs": [
    {
     "name": "stdout",
     "output_type": "stream",
     "text": [
      "{'a', 'd', 'b', 'c'}\n"
     ]
    }
   ],
   "source": [
    "3#sets are type casting \n",
    "myset = set([\"a\", \"b\", \"c\"])\n",
    "myset.add(\"d\")\n",
    "print(myset)"
   ]
  },
  {
   "cell_type": "code",
   "execution_count": 11,
   "id": "ec09a376-e4e0-4bc6-b956-1bed936bf1ca",
   "metadata": {},
   "outputs": [
    {
     "name": "stdout",
     "output_type": "stream",
     "text": [
      "{True, 52.7, 'happy', 'for', 10}\n"
     ]
    }
   ],
   "source": [
    "#Heterogeneous\n",
    "myset = {\"happy\", \"for\", 10, 52.7, True}\n",
    "print(myset) "
   ]
  },
  {
   "cell_type": "code",
   "execution_count": 12,
   "id": "04005dea-0cf7-49a9-af18-c913743846ff",
   "metadata": {},
   "outputs": [
    {
     "name": "stdout",
     "output_type": "stream",
     "text": [
      "\n",
      "Frozen Set\n",
      "frozenset({'e', 'g', 'f'})\n"
     ]
    }
   ],
   "source": [
    "#Frozen set\n",
    "normal_set = set([\"a\", \"b\",\"c\"])\n",
    "frozen_set = frozenset([\"e\", \"f\", \"g\"])\n",
    "print(\"\\nFrozen Set\")\n",
    "print(frozen_set)"
   ]
  },
  {
   "cell_type": "code",
   "execution_count": null,
   "id": "2e0b6942-7d95-415c-a476-f33aa0ff7bb6",
   "metadata": {},
   "outputs": [],
   "source": []
  }
 ],
 "metadata": {
  "kernelspec": {
   "display_name": "Python 3 (ipykernel)",
   "language": "python",
   "name": "python3"
  },
  "language_info": {
   "codemirror_mode": {
    "name": "ipython",
    "version": 3
   },
   "file_extension": ".py",
   "mimetype": "text/x-python",
   "name": "python",
   "nbconvert_exporter": "python",
   "pygments_lexer": "ipython3",
   "version": "3.10.8"
  }
 },
 "nbformat": 4,
 "nbformat_minor": 5
}
