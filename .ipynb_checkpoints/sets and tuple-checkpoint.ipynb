{
 "cells": [
  {
   "cell_type": "markdown",
   "id": "1f65bac5-17cb-40c2-abb4-d7c9381ba1d3",
   "metadata": {},
   "source": [
    "Discuss the use case of tuples and sets in python "
   ]
  },
  {
   "cell_type": "code",
   "execution_count": null,
   "id": "8cda2b14-6d18-4039-98bf-d82950148775",
   "metadata": {},
   "outputs": [],
   "source": [
    "#Tuple\n",
    "a=(1,2,3,4,5,’happy’,2.45,true)\n",
    "print(a)\n",
    "type(a)"
   ]
  }
 ],
 "metadata": {
  "kernelspec": {
   "display_name": "Python 3 (ipykernel)",
   "language": "python",
   "name": "python3"
  },
  "language_info": {
   "codemirror_mode": {
    "name": "ipython",
    "version": 3
   },
   "file_extension": ".py",
   "mimetype": "text/x-python",
   "name": "python",
   "nbconvert_exporter": "python",
   "pygments_lexer": "ipython3",
   "version": "3.10.8"
  }
 },
 "nbformat": 4,
 "nbformat_minor": 5
}
