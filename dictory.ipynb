{
 "cells": [
  {
   "cell_type": "markdown",
   "id": "d260ba54-a5b4-4534-be3e-c55fef6d56ac",
   "metadata": {},
   "source": [
    "Describe how to add, modify and delete items in a dictionary with example"
   ]
  },
  {
   "cell_type": "code",
   "execution_count": 1,
   "id": "6cb52d98-bef3-4330-bc32-02dcc3a3c85e",
   "metadata": {},
   "outputs": [
    {
     "data": {
      "text/plain": [
       "dict"
      ]
     },
     "execution_count": 1,
     "metadata": {},
     "output_type": "execute_result"
    }
   ],
   "source": [
    "d = {\"name\":\"ram\", \"email\":\"ram@gmail.com\", \"contact\": 1234567890}\n",
    "type(d)"
   ]
  },
  {
   "cell_type": "code",
   "execution_count": 5,
   "id": "e9995335-53a2-43e2-8431-f0ff71fd1fdb",
   "metadata": {},
   "outputs": [
    {
     "data": {
      "text/plain": [
       "{'name': 'ram',\n",
       " 'email': 'ram@gmail.com',\n",
       " 'contact': 1234567890,\n",
       " 'address': 'pune'}"
      ]
     },
     "execution_count": 5,
     "metadata": {},
     "output_type": "execute_result"
    }
   ],
   "source": [
    "#add the dictionary\n",
    "d = {\"name\":\"ram\", \"email\":\"ram@gmail.com\", \"contact\": 1234567890}\n",
    "d[\"address\"]=\"pune\"\n",
    "d"
   ]
  },
  {
   "cell_type": "code",
   "execution_count": 7,
   "id": "a4802a6c-f623-409a-ba73-294c789a5f6e",
   "metadata": {},
   "outputs": [
    {
     "data": {
      "text/plain": [
       "{'course': 'ds'}"
      ]
     },
     "execution_count": 7,
     "metadata": {},
     "output_type": "execute_result"
    }
   ],
   "source": [
    "#modify dictionary\n",
    "d1={\"course\":\"ds\"}\n",
    "d1"
   ]
  },
  {
   "cell_type": "code",
   "execution_count": 8,
   "id": "948b4015-d168-45e1-ba9e-b9c864b76422",
   "metadata": {},
   "outputs": [
    {
     "data": {
      "text/plain": [
       "{'name': 'ram',\n",
       " 'email': 'ram@gmail.com',\n",
       " 'contact': 1234567890,\n",
       " 'address': 'pune'}"
      ]
     },
     "execution_count": 8,
     "metadata": {},
     "output_type": "execute_result"
    }
   ],
   "source": [
    "d"
   ]
  },
  {
   "cell_type": "code",
   "execution_count": 9,
   "id": "a1d11171-a0b7-4049-904a-3c90aaf2e38a",
   "metadata": {},
   "outputs": [
    {
     "data": {
      "text/plain": [
       "{'name': 'ram',\n",
       " 'email': 'ram@gmail.com',\n",
       " 'contact': 1234567890,\n",
       " 'address': 'pune',\n",
       " 'course': 'ds'}"
      ]
     },
     "execution_count": 9,
     "metadata": {},
     "output_type": "execute_result"
    }
   ],
   "source": [
    "d.update(d1)\n",
    "d"
   ]
  },
  {
   "cell_type": "code",
   "execution_count": 11,
   "id": "4ce7b097-f198-4795-ac7c-1ec73786f1df",
   "metadata": {},
   "outputs": [
    {
     "data": {
      "text/plain": [
       "{'name': 'ram',\n",
       " 'email': 'ram@gmail.com',\n",
       " 'contact': 1234567890,\n",
       " 'course': 'ds'}"
      ]
     },
     "execution_count": 11,
     "metadata": {},
     "output_type": "execute_result"
    }
   ],
   "source": [
    "#delete the dictionary\n",
    "del d[\"address\"]\n",
    "d"
   ]
  },
  {
   "cell_type": "code",
   "execution_count": null,
   "id": "a05464db-51a8-4583-92b5-2036c263f7fd",
   "metadata": {},
   "outputs": [],
   "source": []
  }
 ],
 "metadata": {
  "kernelspec": {
   "display_name": "Python 3 (ipykernel)",
   "language": "python",
   "name": "python3"
  },
  "language_info": {
   "codemirror_mode": {
    "name": "ipython",
    "version": 3
   },
   "file_extension": ".py",
   "mimetype": "text/x-python",
   "name": "python",
   "nbconvert_exporter": "python",
   "pygments_lexer": "ipython3",
   "version": "3.10.8"
  }
 },
 "nbformat": 4,
 "nbformat_minor": 5
}
