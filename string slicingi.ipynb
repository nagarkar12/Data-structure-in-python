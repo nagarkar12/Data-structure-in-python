{
 "cells": [
  {
   "cell_type": "markdown",
   "id": "09c1c6a2-476c-49fc-8c50-2b2cd9338476",
   "metadata": {},
   "source": [
    "Discuss string slicing  and provide examples "
   ]
  },
  {
   "cell_type": "code",
   "execution_count": 5,
   "id": "ecac926d-dcdd-4a01-b953-485a95871203",
   "metadata": {},
   "outputs": [
    {
     "data": {
      "text/plain": [
       "'I am'"
      ]
     },
     "execution_count": 5,
     "metadata": {},
     "output_type": "execute_result"
    }
   ],
   "source": [
    "s= 'I am a good student'\n",
    "s[0:4] "
   ]
  },
  {
   "cell_type": "code",
   "execution_count": 6,
   "id": "8f7d8763-c44d-4b6f-a5a2-7755fb5613e3",
   "metadata": {},
   "outputs": [
    {
     "data": {
      "text/plain": [
       "'I am a good student'"
      ]
     },
     "execution_count": 6,
     "metadata": {},
     "output_type": "execute_result"
    }
   ],
   "source": [
    "s[5:12]\n",
    "s"
   ]
  },
  {
   "cell_type": "code",
   "execution_count": null,
   "id": "5aaae10a-6c95-4abd-b1ec-4c9c46f80152",
   "metadata": {},
   "outputs": [],
   "source": []
  }
 ],
 "metadata": {
  "kernelspec": {
   "display_name": "Python 3 (ipykernel)",
   "language": "python",
   "name": "python3"
  },
  "language_info": {
   "codemirror_mode": {
    "name": "ipython",
    "version": 3
   },
   "file_extension": ".py",
   "mimetype": "text/x-python",
   "name": "python",
   "nbconvert_exporter": "python",
   "pygments_lexer": "ipython3",
   "version": "3.10.8"
  }
 },
 "nbformat": 4,
 "nbformat_minor": 5
}
