{
 "cells": [
  {
   "cell_type": "markdown",
   "id": "3d0669a2-f8c7-44fa-8e5f-bcb74faa71e6",
   "metadata": {},
   "source": [
    "Explain the key features of lists in python "
   ]
  },
  {
   "cell_type": "code",
   "execution_count": 6,
   "id": "55971022-f1bb-4394-b9c7-ddf416584e7b",
   "metadata": {},
   "outputs": [
    {
     "data": {
      "text/plain": [
       "4"
      ]
     },
     "execution_count": 6,
     "metadata": {},
     "output_type": "execute_result"
    }
   ],
   "source": [
    "#The list element can be accessed via the index.\n",
    "#The mutable type of List \n",
    "lis=[4,1,2,'sham','bad']\n",
    "lis[0]"
   ]
  },
  {
   "cell_type": "code",
   "execution_count": 3,
   "id": "4ce1710c-0eea-41f3-bd49-dd0e0e40b1dc",
   "metadata": {},
   "outputs": [
    {
     "data": {
      "text/plain": [
       "False"
      ]
     },
     "execution_count": 3,
     "metadata": {},
     "output_type": "execute_result"
    }
   ],
   "source": [
    "#The lists are in order.\n",
    "l1=[2,1,1.2,'ram','happy']\n",
    "l2=[1,2,1.2,'happy','ram']\n",
    "l1==l2"
   ]
  },
  {
   "cell_type": "code",
   "execution_count": 7,
   "id": "f653dd17-a06c-4e9c-8c8b-d91c1754b51c",
   "metadata": {},
   "outputs": [
    {
     "data": {
      "text/plain": [
       "'sham'"
      ]
     },
     "execution_count": 7,
     "metadata": {},
     "output_type": "execute_result"
    }
   ],
   "source": [
    "lis[3]"
   ]
  },
  {
   "cell_type": "code",
   "execution_count": 8,
   "id": "14716ce6-6ab3-47a4-a0be-3c6742b07763",
   "metadata": {},
   "outputs": [
    {
     "data": {
      "text/plain": [
       "'bad'"
      ]
     },
     "execution_count": 8,
     "metadata": {},
     "output_type": "execute_result"
    }
   ],
   "source": [
    "lis[-1]"
   ]
  },
  {
   "cell_type": "code",
   "execution_count": 10,
   "id": "8e3cef74-eb2b-4059-9c16-72948f8e05c3",
   "metadata": {},
   "outputs": [
    {
     "data": {
      "text/plain": [
       "['bad', 'good', 'happy', 'sad']"
      ]
     },
     "execution_count": 10,
     "metadata": {},
     "output_type": "execute_result"
    }
   ],
   "source": [
    "#The rundowns are changeable sorts.\n",
    "#The number of various elements can be stored in a list. \n",
    "a=['happy','good','sad','bad']\n",
    "sorted(a)"
   ]
  },
  {
   "cell_type": "code",
   "execution_count": 12,
   "id": "4198580b-ef3c-42b7-8849-25b5af36c87a",
   "metadata": {},
   "outputs": [
    {
     "data": {
      "text/plain": [
       "['C', 'python', 'java', 'DBMS']"
      ]
     },
     "execution_count": 12,
     "metadata": {},
     "output_type": "execute_result"
    }
   ],
   "source": [
    "#Deep copy and shallow copy\n",
    "#-Shallow copy:\n",
    "lis=['C','python','java','DBMS']\n",
    "a=lis\n",
    "a       "
   ]
  },
  {
   "cell_type": "code",
   "execution_count": 16,
   "id": "39f5f26c-bd4b-4884-b24e-ac1b3268ee13",
   "metadata": {},
   "outputs": [
    {
     "data": {
      "text/plain": [
       "['C++', 'python', 'java', 'DBMS']"
      ]
     },
     "execution_count": 16,
     "metadata": {},
     "output_type": "execute_result"
    }
   ],
   "source": [
    "a[0]='C++'\n",
    "lis "
   ]
  },
  {
   "cell_type": "code",
   "execution_count": 17,
   "id": "32a3dc38-f29f-44e8-9d42-be34d62a247f",
   "metadata": {},
   "outputs": [
    {
     "data": {
      "text/plain": [
       "['C++', 'python', 'java', 'DBMS']"
      ]
     },
     "execution_count": 17,
     "metadata": {},
     "output_type": "execute_result"
    }
   ],
   "source": [
    "lis"
   ]
  },
  {
   "cell_type": "code",
   "execution_count": 18,
   "id": "3e6e2931-8fa9-4c68-9e1e-fdb22397720d",
   "metadata": {},
   "outputs": [
    {
     "data": {
      "text/plain": [
       "['C', 'python', 'java', 'DBMS']"
      ]
     },
     "execution_count": 18,
     "metadata": {},
     "output_type": "execute_result"
    }
   ],
   "source": [
    "#-Deep copy :  \n",
    "lis=['C','python','java','DBMS']\n",
    "a=lis.copy()\n",
    "a         "
   ]
  },
  {
   "cell_type": "code",
   "execution_count": 19,
   "id": "5ddb7f04-7e1d-40e9-974b-371cdd87bbad",
   "metadata": {},
   "outputs": [
    {
     "data": {
      "text/plain": [
       "['C', 'python', 'java', 'DBMS']"
      ]
     },
     "execution_count": 19,
     "metadata": {},
     "output_type": "execute_result"
    }
   ],
   "source": [
    "lis"
   ]
  },
  {
   "cell_type": "code",
   "execution_count": 20,
   "id": "f2c06ac6-2b6f-4fc5-99a0-f1691dc5e6ee",
   "metadata": {},
   "outputs": [
    {
     "data": {
      "text/plain": [
       "['C+=', 'python', 'java', 'DBMS']"
      ]
     },
     "execution_count": 20,
     "metadata": {},
     "output_type": "execute_result"
    }
   ],
   "source": [
    "a[0]='C+='\n",
    "a"
   ]
  },
  {
   "cell_type": "code",
   "execution_count": 21,
   "id": "78a8dc19-b1a1-44a9-9341-e2d75a9d5eab",
   "metadata": {},
   "outputs": [
    {
     "data": {
      "text/plain": [
       "['C', 'python', 'java', 'DBMS']"
      ]
     },
     "execution_count": 21,
     "metadata": {},
     "output_type": "execute_result"
    }
   ],
   "source": [
    "lis"
   ]
  },
  {
   "cell_type": "code",
   "execution_count": null,
   "id": "d40f26a8-faa2-4101-bd40-0042dfcdf586",
   "metadata": {},
   "outputs": [],
   "source": [
    "Describe how to access, modify, and delete element in a list with example "
   ]
  },
  {
   "cell_type": "code",
   "execution_count": 22,
   "id": "7fa1cc89-bdc4-4922-9be4-3664e3dc8ab3",
   "metadata": {},
   "outputs": [
    {
     "data": {
      "text/plain": [
       "['C', 'python', 'java', 'DBMS', 'SQL', 'Maths']"
      ]
     },
     "execution_count": 22,
     "metadata": {},
     "output_type": "execute_result"
    }
   ],
   "source": [
    "#Access :\n",
    "lis=['C','python','java','DBMS','SQL','Maths']\n",
    "lis"
   ]
  },
  {
   "cell_type": "code",
   "execution_count": 23,
   "id": "f793375a-f998-4e4e-b0a0-ba4a5d0a91dd",
   "metadata": {},
   "outputs": [
    {
     "name": "stdout",
     "output_type": "stream",
     "text": [
      "[1, 2, 20, 4, 5]\n"
     ]
    }
   ],
   "source": [
    "#Modify \n",
    "#Using index:\n",
    "a=[1,2,3,4,5]\n",
    "a[2]=20\n",
    "print(a)"
   ]
  },
  {
   "cell_type": "code",
   "execution_count": 32,
   "id": "7ea69fbb-5802-47f0-ab6c-ef42408700bc",
   "metadata": {},
   "outputs": [
    {
     "data": {
      "text/plain": [
       "[1, 2, 20, 4, 50]"
      ]
     },
     "execution_count": 32,
     "metadata": {},
     "output_type": "execute_result"
    }
   ],
   "source": [
    "a[4]=50\n",
    "a"
   ]
  },
  {
   "cell_type": "code",
   "execution_count": 29,
   "id": "e0b4d5e1-81e0-432a-ad75-dc5b51fbe2af",
   "metadata": {},
   "outputs": [
    {
     "name": "stdout",
     "output_type": "stream",
     "text": [
      "[6, 7, 8, 9, 0, 1]\n"
     ]
    }
   ],
   "source": [
    "#Using append  \n",
    "l=[6,7,8,9,0]\n",
    "l.append(1)\n",
    "print(l)"
   ]
  },
  {
   "cell_type": "code",
   "execution_count": 33,
   "id": "71dd5a7c-adfb-49a4-bb1b-01e8c8f8ac7f",
   "metadata": {},
   "outputs": [
    {
     "name": "stdout",
     "output_type": "stream",
     "text": [
      "['apple', 'cherry', 'kiwi']\n"
     ]
    }
   ],
   "source": [
    "#Delete: \n",
    "a=['apple','banana','cherry','kiwi']\n",
    "a.remove('banana')\n",
    "print(a)"
   ]
  },
  {
   "cell_type": "code",
   "execution_count": 34,
   "id": "1caa6ea0-426d-4ecc-9664-e48eb216e4ea",
   "metadata": {},
   "outputs": [
    {
     "name": "stdout",
     "output_type": "stream",
     "text": [
      "['apple', 'banana', 'cherry']\n"
     ]
    }
   ],
   "source": [
    " b=['apple','banana','cherry','kiwi']\n",
    "b.pop(3)\n",
    "print(b)"
   ]
  },
  {
   "cell_type": "code",
   "execution_count": null,
   "id": "41ca4cd0-7aac-4972-9ac2-b02db7fea035",
   "metadata": {},
   "outputs": [],
   "source": []
  }
 ],
 "metadata": {
  "kernelspec": {
   "display_name": "Python 3 (ipykernel)",
   "language": "python",
   "name": "python3"
  },
  "language_info": {
   "codemirror_mode": {
    "name": "ipython",
    "version": 3
   },
   "file_extension": ".py",
   "mimetype": "text/x-python",
   "name": "python",
   "nbconvert_exporter": "python",
   "pygments_lexer": "ipython3",
   "version": "3.10.8"
  }
 },
 "nbformat": 4,
 "nbformat_minor": 5
}
